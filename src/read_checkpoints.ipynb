{
 "cells": [
  {
   "cell_type": "code",
   "execution_count": 1,
   "metadata": {},
   "outputs": [],
   "source": [
    "import pickle \n",
    "import sys \n",
    "import os \n",
    "import matplotlib.pyplot as plt \n",
    "# sys.path.append(os.path.abspath('../../../lammps-21Nov2023/multiscale_project/checkpoints/'))\n",
    "from glob import glob\n",
    "sys.path.append(os.path.abspath('../../checkpoints'))\n",
    "sys.path.append(os.path.abspath('../../src'))\n",
    "from ea import EA\n",
    "from ea import Material \n",
    "from ea import Grain\n",
    "import numpy as np"
   ]
  },
  {
   "cell_type": "code",
   "execution_count": 20,
   "metadata": {},
   "outputs": [],
   "source": [
    "seeds = range(0,3)\n",
    "period_pairs = [[0.0666,0.05]]\n",
    "fig, axes = plt.subplots(1, len(seeds), sharey=True, sharex=True, figsize=(20, 10))\n",
    "eval_method = 'simult'\n",
    "gate_1 = \"XOR\"\n",
    "gate_2 = \"AND\"\n",
    "\n",
    "# checkpoints/seq_eval_run0_period0.0666_period0.05_1gens_AND_AND.p\n",
    "for pindx, period_pair in enumerate(period_pairs):\n",
    "    for seed_index, seed in enumerate(seeds):\n",
    "        filenames = glob(f'../final_checkpoints/{eval_method}_eval_run{seed}_period{period_pair[0]}_period{period_pair[1]}_*gens_{gate_1}_{gate_2}.p')\n",
    "        filenames.sort(key=lambda x: int(x.split(f\"period{period_pair[1]}_\")[1].split(\"gens\")[0]))\n",
    "        \n",
    "        filenames=filenames[:50]\n",
    "        data = np.zeros((len(filenames), 100, 2))\n",
    "\n",
    "        for file_index, filename in enumerate(filenames):\n",
    "            with open(filename, 'rb') as f:\n",
    "                # Load the data from the file\n",
    "                ea, rng_state, np_rng_state = pickle.load(f)\n",
    "            xs = []\n",
    "            ys = []\n",
    "            for org_index, org in enumerate(ea.population):\n",
    "                #print(org.fitness1, org.fitness2)\n",
    "                data[file_index,org_index,0] = org.fitness1\n",
    "                data[file_index,org_index,1] = org.fitness2\n",
    "        colors = plt.cm.viridis(np.linspace(0, 1, len(filenames)))\n",
    "        for i in range(len(filenames)):\n",
    "            s= axes[seed_index].scatter(data[i, :, 0], data[i, :, 1], color=colors[i])\n",
    "\n",
    "        axes[seed_index].set_title(f\"Gens {len(filenames)*2} Seed {seed} periods {period_pair[0]}, {period_pair[1]}\")\n",
    "        axes[seed_index].axvline(x=1, color='red', linestyle='--')\n",
    "        axes[seed_index].axhline(y=1, color='red', linestyle='--')\n",
    "        axes[seed_index].set_aspect('equal', adjustable='box')\n",
    "        axes[seed_index].set_xlim([0, 10])\n",
    "        axes[seed_index].set_ylim([0, 10])\n",
    "\n",
    "\n",
    "\n",
    "plt.xlabel(f\"{gate_1}ness f1\")\n",
    "plt.ylabel(f\"{gate_2}ness f2\")\n",
    "plt.tight_layout()\n",
    "\n",
    "plt.show()\n"
   ]
  }
 ],
 "metadata": {
  "kernelspec": {
   "display_name": "Python 3",
   "language": "python",
   "name": "python3"
  },
  "language_info": {
   "codemirror_mode": {
    "name": "ipython",
    "version": 3
   },
   "file_extension": ".py",
   "mimetype": "text/x-python",
   "name": "python",
   "nbconvert_exporter": "python",
   "pygments_lexer": "ipython3",
   "version": "3.6.8"
  }
 },
 "nbformat": 4,
 "nbformat_minor": 2
}
